{
 "cells": [
  {
   "cell_type": "code",
   "execution_count": 2,
   "metadata": {},
   "outputs": [],
   "source": [
    "# import required packages\n",
    "import pandas as pd\n",
    "import numpy as np"
   ]
  },
  {
   "cell_type": "code",
   "execution_count": 4,
   "metadata": {},
   "outputs": [],
   "source": [
    "# load data\n",
    "raw_data=pd.read_csv('uncleaned_data/smartprix_laptops_unclean.csv')"
   ]
  },
  {
   "cell_type": "code",
   "execution_count": null,
   "metadata": {},
   "outputs": [],
   "source": [
    "# Extract laptop brand and model from name\n",
    "raw_data[['brand','temp_name']] = raw_data['name'].str.split(' ',n=1,expand=True)\n",
    "\n",
    "raw_data[['model','name']] = raw_data['temp_name'].str.split('(',n=1,expand=True)\n",
    "\n",
    "raw_data['temp'] = raw_data['name'].str.replace(')','')\n",
    "raw_data = raw_data.drop(columns=['name'])"
   ]
  },
  {
   "cell_type": "code",
   "execution_count": null,
   "metadata": {},
   "outputs": [],
   "source": [
    "# remove the ',' character\n",
    "raw_data['price']=raw_data['price'].str.replace(',','')\n",
    "# Delete the currency symbol from price\n",
    "raw_data['price']=raw_data['price'].str.replace('₹','')\n",
    "# change dtype to float\n",
    "raw_data['price'] = raw_data['price'].astype('float64')"
   ]
  },
  {
   "cell_type": "code",
   "execution_count": null,
   "metadata": {},
   "outputs": [],
   "source": [
    "# split the votes column in votes and reviews columns\n",
    "raw_data[['votes','reviews']] = raw_data['votes'].str.split('•',n=1,expand=True)\n",
    "# Delete the word 'votes' from votes\n",
    "raw_data['votes']=raw_data['votes'].str.replace(' votes','')\n",
    "# remove the ',' character\n",
    "raw_data['votes']=raw_data['votes'].str.replace(',','')\n",
    "raw_data['reviews']=raw_data['reviews'].str.replace(',','')\n",
    "# Delete the word ' reviews' from reviews\n",
    "raw_data['reviews']=raw_data['reviews'].str.replace(' reviews','')\n",
    "# fill nas with 0\n",
    "raw_data['reviews']=raw_data['reviews'].fillna(0)"
   ]
  },
  {
   "cell_type": "code",
   "execution_count": null,
   "metadata": {},
   "outputs": [],
   "source": [
    "# Delete the word 'OS: ' from os\n",
    "raw_data['os']=raw_data['os'].str.replace('OS: ','')"
   ]
  },
  {
   "cell_type": "code",
   "execution_count": null,
   "metadata": {},
   "outputs": [],
   "source": [
    "# Delete the word 'Utility: ' from utility\n",
    "raw_data['utility']=raw_data['utility'].str.replace('Utility: ','')"
   ]
  },
  {
   "cell_type": "code",
   "execution_count": null,
   "metadata": {},
   "outputs": [],
   "source": [
    "# Delete the word 'Thickness: ' from thickness\n",
    "raw_data['thickness']=raw_data['thickness'].str.replace('Thickness: ','')\n",
    "# split the thickness column in thickness and thicknessV columns\n",
    "raw_data[['thickness','thicknessV']] = raw_data['thickness'].str.split('mm',n=1,expand=True)"
   ]
  },
  {
   "cell_type": "code",
   "execution_count": null,
   "metadata": {},
   "outputs": [],
   "source": [
    "# split the weight column in thicweightness and weightV columns\n",
    "raw_data[['weight','weightV']] = raw_data['weight'].str.split('kg',n=1,expand=True)\n",
    "# raw_data[['weight','weightV']] = raw_data['weight'].str.split('g',n=1,expand=True)"
   ]
  },
  {
   "cell_type": "code",
   "execution_count": null,
   "metadata": {},
   "outputs": [],
   "source": [
    "# Delete the word ' Year Warranty' from warranty\n",
    "raw_data['warranty']=raw_data['warranty'].str.replace(' Year Warranty','')"
   ]
  },
  {
   "cell_type": "code",
   "execution_count": null,
   "metadata": {},
   "outputs": [],
   "source": [
    "# split the screen_size column in screen_size and screen_sizeV columns\n",
    "raw_data[['screen_size','screen_sizeV']] = raw_data['screen_size'].str.split('inches',n=1,expand=True)"
   ]
  },
  {
   "cell_type": "code",
   "execution_count": null,
   "metadata": {},
   "outputs": [],
   "source": [
    "# split the resolution column in resolution and resolutionV columns\n",
    "raw_data[['resolution','resolutionV']] = raw_data['resolution'].str.split('pixels',n=1,expand=True)"
   ]
  },
  {
   "cell_type": "code",
   "execution_count": null,
   "metadata": {},
   "outputs": [],
   "source": [
    "# split the ppi column in ppi and ppiV columns\n",
    "raw_data[['ppi','ppiV']] = raw_data['ppi'].str.split('PPI',n=1,expand=True)\n",
    "# remove the '~' character\n",
    "raw_data['ppi']=raw_data['ppi'].str.replace('~','')"
   ]
  },
  {
   "cell_type": "code",
   "execution_count": null,
   "metadata": {},
   "outputs": [],
   "source": [
    "# split the battery column in battery and batteryV columns\n",
    "raw_data[['battery','batteryV']] = raw_data['battery'].str.split('Battery',n=1,expand=True)\n",
    "# split the battery column in battery and cell columns\n",
    "raw_data[['battery','cell']] = raw_data['battery'].str.split('Wh',n=1,expand=True)"
   ]
  },
  {
   "cell_type": "code",
   "execution_count": null,
   "metadata": {},
   "outputs": [],
   "source": [
    "# create logical vectors of processors\n",
    "is_intel = raw_data.processor_name.str.contains(pat = 'Intel', case=False)\n",
    "is_amd = raw_data.processor_name.str.contains(pat = 'AMD', case=False)\n",
    "is_apple = raw_data.processor_name.str.contains(pat = 'Apple', case=False)\n",
    "is_mediatek = raw_data.processor_name.str.contains(pat = 'MediaTek', case=False)\n",
    "is_other_processor= -is_intel * -is_amd * -is_apple * -is_mediatek"
   ]
  },
  {
   "cell_type": "code",
   "execution_count": null,
   "metadata": {},
   "outputs": [],
   "source": [
    "df_intel_amd=raw_data[is_intel + is_amd]\n",
    "temp_df = df_intel_amd['processor_name'].str.rsplit(' ',n=1,expand=True)\n",
    "temp_df.columns = ['processor_name','processor_model']\n",
    "df_intel_amd.loc[:,['processor_name','processor_model']] = temp_df"
   ]
  },
  {
   "cell_type": "code",
   "execution_count": null,
   "metadata": {},
   "outputs": [],
   "source": [
    "df_apple = raw_data[is_apple]\n",
    "temp_df = df_apple['processor_name'].str.rsplit(' ',n=1,expand=True)\n",
    "temp_df.columns = ['processor_name','processor_model']\n",
    "df_apple.loc[:,['processor_name','processor_model']] = temp_df"
   ]
  },
  {
   "cell_type": "code",
   "execution_count": null,
   "metadata": {},
   "outputs": [],
   "source": [
    "df_mediatek = raw_data[is_mediatek]\n",
    "temp_df = df_mediatek['processor_name'].str.rsplit(' ',n=1,expand=True)\n",
    "temp_df.columns = ['processor_name','processor_model']\n",
    "df_mediatek.loc[:,['processor_name','processor_model']] = temp_df"
   ]
  },
  {
   "cell_type": "code",
   "execution_count": null,
   "metadata": {},
   "outputs": [],
   "source": [
    "clean_df = pd.concat([df_intel_amd,df_apple,df_mediatek])"
   ]
  },
  {
   "cell_type": "code",
   "execution_count": null,
   "metadata": {},
   "outputs": [],
   "source": [
    "clean_df.price = clean_df.price.astype('float64')\n",
    "clean_df.votes = clean_df.votes.astype('int64')"
   ]
  }
 ],
 "metadata": {
  "kernelspec": {
   "display_name": "venv",
   "language": "python",
   "name": "python3"
  },
  "language_info": {
   "codemirror_mode": {
    "name": "ipython",
    "version": 3
   },
   "file_extension": ".py",
   "mimetype": "text/x-python",
   "name": "python",
   "nbconvert_exporter": "python",
   "pygments_lexer": "ipython3",
   "version": "3.9.16"
  }
 },
 "nbformat": 4,
 "nbformat_minor": 2
}
